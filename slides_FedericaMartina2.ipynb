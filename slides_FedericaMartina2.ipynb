{
 "cells": [
  {
   "cell_type": "markdown",
   "metadata": {
    "slideshow": {
     "slide_type": "slide"
    }
   },
   "source": [
    "# <center> Python Project </center>\n",
    "\n",
    "## <center> Creating graphs through covid-19 dataset </center>\n",
    "\n",
    "### Authors: \n",
    "#### Martina Pacifici () and Federica Sauro Graziano (6360850)"
   ]
  },
  {
   "cell_type": "code",
   "execution_count": 2,
   "metadata": {
    "slideshow": {
     "slide_type": "skip"
    }
   },
   "outputs": [],
   "source": [
    "import json\n",
    "with open(\"C:\\\\Users\\\\feder\\\\OneDrive\\\\Documenti\\\\Fede\\\\University\\\\STAT_M1\\\\AlgoritmiPython\\\\project\\\\dpc-covid19-ita-province.json\") as f:\n",
    "\n",
    "         d = json.load(f) "
   ]
  },
  {
   "cell_type": "code",
   "execution_count": 3,
   "metadata": {
    "slideshow": {
     "slide_type": "skip"
    }
   },
   "outputs": [],
   "source": [
    "import networkx as nx\n",
    "import numpy as np\n",
    "import pandas as pd\n",
    "import matplotlib.pyplot as plt\n",
    "import timeit\n",
    "import random\n",
    "import math"
   ]
  },
  {
   "cell_type": "code",
   "execution_count": 4,
   "metadata": {
    "slideshow": {
     "slide_type": "skip"
    }
   },
   "outputs": [],
   "source": [
    "corona = pd.DataFrame(d)\n",
    "corona = corona.drop(corona[corona.lat==0.0].index)\n",
    "corona.reset_index(inplace=True)\n",
    "df = corona[0:107]"
   ]
  },
  {
   "cell_type": "markdown",
   "metadata": {
    "slideshow": {
     "slide_type": "slide"
    }
   },
   "source": [
    "# <center> Graph bulding </center>\n",
    "\n",
    "After having converted our dataset in a pandas DataFrame, we extract only all the 107 provinces at a particular moment of time (we didn't care about the date). In this way we have all the italian provinces with the spatial information of latitude and longitude (in decimal degree) that allows us to be ready to build of the graph."
   ]
  },
  {
   "cell_type": "markdown",
   "metadata": {
    "slideshow": {
     "slide_type": "subslide"
    }
   },
   "source": [
    "The graph will be a nextwork of provinces called 'P' in which each node corresponds to a city and two cities a and b are connected by an edge if they are close in 0.8 decimal degree (that is: if x,y is the position of a, then b is in position z,w with z in [x-d,x+d] and w in [y-d, y+d], with d=0.8)."
   ]
  },
  {
   "cell_type": "markdown",
   "metadata": {
    "slideshow": {
     "slide_type": "subslide"
    }
   },
   "source": [
    "NetworkX  is a python package useful for the implementation, manipulation, and study of a standard, dynamics and complex graph structure.\n",
    "\n",
    "First we use networkx to create all the nodes, that are the provinces of a general graph 'G', through the command:"
   ]
  },
  {
   "cell_type": "code",
   "execution_count": 5,
   "metadata": {
    "scrolled": true,
    "slideshow": {
     "slide_type": "fragment"
    }
   },
   "outputs": [
    {
     "data": {
      "text/plain": [
       "107"
      ]
     },
     "execution_count": 5,
     "metadata": {},
     "output_type": "execute_result"
    }
   ],
   "source": [
    "G = nx.Graph()\n",
    "G.add_nodes_from(corona.sigla_provincia)\n",
    "G.number_of_nodes()"
   ]
  },
  {
   "cell_type": "markdown",
   "metadata": {
    "slideshow": {
     "slide_type": "slide"
    }
   },
   "source": [
    "#### First implementation (not efficient)"
   ]
  },
  {
   "cell_type": "code",
   "execution_count": 6,
   "metadata": {
    "slideshow": {
     "slide_type": "fragment"
    }
   },
   "outputs": [
    {
     "name": "stdout",
     "output_type": "stream",
     "text": [
      "749 ms ± 15.8 ms per loop (mean ± std. dev. of 7 runs, 1 loop each)\n"
     ]
    }
   ],
   "source": [
    "%%timeit\n",
    "for i in range(len(df)):\n",
    "    for j in range(len(df)):\n",
    "        if (i != j) & (abs(df.lat[i]-df.lat[j]) <= 0.8) & (abs(df.long[i]-df.long[j]) <= 0.8):\n",
    "            G.add_edge(df.sigla_provincia[i],df.sigla_provincia[j])"
   ]
  },
  {
   "cell_type": "markdown",
   "metadata": {
    "slideshow": {
     "slide_type": "subslide"
    }
   },
   "source": [
    "#### Second implementation (more efficient)\n",
    "\n",
    "First we need to sort the DataFrame. We created two new ordered DataFrame one in respect to longitude and the other in respect to latitude."
   ]
  },
  {
   "cell_type": "code",
   "execution_count": 7,
   "metadata": {
    "slideshow": {
     "slide_type": "fragment"
    }
   },
   "outputs": [],
   "source": [
    "sorted_dfx = df.sort_values(by = 'long', kind = 'mergesort')\n",
    "sorted_dfx.reset_index(inplace = True)\n",
    "sorted_dfy = df.sort_values(by = 'lat', kind ='mergesort')\n",
    "sorted_dfy.reset_index(inplace = True)"
   ]
  },
  {
   "cell_type": "markdown",
   "metadata": {
    "slideshow": {
     "slide_type": "subslide"
    }
   },
   "source": [
    "This is important in order to use the binarySearch function:"
   ]
  },
  {
   "cell_type": "code",
   "execution_count": 8,
   "metadata": {
    "slideshow": {
     "slide_type": "fragment"
    }
   },
   "outputs": [],
   "source": [
    "def binarySearch(alist, item, prov, d):\n",
    "    first = 0\n",
    "    last = len(alist)-1\n",
    "    found = False\n",
    "    while first<=last and not found:\n",
    "        midpoint = (first + last)//2\n",
    "        if alist[midpoint]==float(item):\n",
    "            found = True\n",
    "            return list(prov[(alist>=float(alist[midpoint]-d)) & (alist<=float(alist[midpoint]+d))])\n",
    "        else:\n",
    "            if float(item) < alist[midpoint]:\n",
    "                last = midpoint-1\n",
    "            else:\n",
    "                first = midpoint+1\n",
    "    return []"
   ]
  },
  {
   "cell_type": "markdown",
   "metadata": {
    "slideshow": {
     "slide_type": "subslide"
    }
   },
   "source": [
    "Here the function inter_city will help us taking the interesection between the closest cities of a node in respect to both latitudine and longitude.\n",
    "\n",
    "We used a dictionary to collect the cities to have a more efficient function. It takes in the worst case **O(n)**."
   ]
  },
  {
   "cell_type": "code",
   "execution_count": 9,
   "metadata": {
    "slideshow": {
     "slide_type": "fragment"
    }
   },
   "outputs": [],
   "source": [
    "def inter_city(A,B,elem):\n",
    "    C = {}\n",
    "    for el in B:\n",
    "        if el!=elem and el not in C and el in A:\n",
    "            C[el]=0\n",
    "    return C"
   ]
  },
  {
   "cell_type": "markdown",
   "metadata": {
    "slideshow": {
     "slide_type": "subslide"
    }
   },
   "source": [
    "Finally we can implement our provinces graph"
   ]
  },
  {
   "cell_type": "code",
   "execution_count": 10,
   "metadata": {
    "slideshow": {
     "slide_type": "fragment"
    }
   },
   "outputs": [],
   "source": [
    "P = nx.Graph()\n",
    "P.add_nodes_from(sorted_dfx.sigla_provincia)"
   ]
  },
  {
   "cell_type": "code",
   "execution_count": 11,
   "metadata": {
    "slideshow": {
     "slide_type": "fragment"
    }
   },
   "outputs": [
    {
     "name": "stdout",
     "output_type": "stream",
     "text": [
      "455 ms ± 55 ms per loop (mean ± std. dev. of 7 runs, 1 loop each)\n"
     ]
    }
   ],
   "source": [
    "%%timeit\n",
    "for el in sorted_dfx.sigla_provincia:\n",
    "    lista_legami_x = binarySearch(sorted_dfx.long, sorted_dfx.long[sorted_dfx.sigla_provincia==el], \n",
    "                                  sorted_dfx.sigla_provincia, 0.8)\n",
    "    lista_legami_y = binarySearch(sorted_dfy.lat, sorted_dfy.lat[sorted_dfy.sigla_provincia==el], \n",
    "                                  sorted_dfy.sigla_provincia, 0.8)\n",
    "    lst_x = {j:0 for j in lista_legami_x}\n",
    "    lst_y = {j:0 for j in lista_legami_y}\n",
    "    città_vicine = inter_city(lst_x, lst_y, el)\n",
    "    edge_city = []\n",
    "    for j in città_vicine:\n",
    "        edge_city.append((el, j))\n",
    "    P.add_edges_from(edge_city)"
   ]
  },
  {
   "cell_type": "code",
   "execution_count": 12,
   "metadata": {
    "slideshow": {
     "slide_type": "subslide"
    }
   },
   "outputs": [
    {
     "data": {
      "text/plain": [
       "298"
      ]
     },
     "execution_count": 12,
     "metadata": {},
     "output_type": "execute_result"
    }
   ],
   "source": [
    "P.number_of_edges()"
   ]
  },
  {
   "cell_type": "code",
   "execution_count": 36,
   "metadata": {
    "slideshow": {
     "slide_type": "fragment"
    }
   },
   "outputs": [
    {
     "data": {
      "image/png": "[encoded data removed]",
      "text/plain": [
       "<Figure size 432x288 with 1 Axes>"
      ]
     },
     "metadata": {},
     "output_type": "display_data"
    }
   ],
   "source": [
    "nx.draw(P, with_labels=True, node_color='lightpink')"
   ]
  },
  {
   "cell_type": "code",
   "execution_count": null,
   "metadata": {},
   "outputs": [],
   "source": []
  }
 ],
 "metadata": {
  "celltoolbar": "Slideshow",
  "kernelspec": {
   "display_name": "Python 3",
   "language": "python",
   "name": "python3"
  },
  "language_info": {
   "codemirror_mode": {
    "name": "ipython",
    "version": 3
   },
   "file_extension": ".py",
   "mimetype": "text/x-python",
   "name": "python",
   "nbconvert_exporter": "python",
   "pygments_lexer": "ipython3",
   "version": "3.7.4"
  }
 },
 "nbformat": 4,
 "nbformat_minor": 2
}
