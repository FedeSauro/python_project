{
 "cells": [
  {
   "cell_type": "markdown",
   "metadata": {
    "slideshow": {
     "slide_type": "slide"
    }
   },
   "source": [
    "# <font color='darkred'><center> Python Project </center></font>\n",
    "\n",
    "## <center> Graphs building and analysis </center>\n",
    "\n",
    "### Authors: \n",
    "#### Martina Pacifici (7005686) and Federica Sauro Graziano (6360850)\n"
   ]
  },
  {
   "cell_type": "code",
   "execution_count": 1,
   "metadata": {
    "slideshow": {
     "slide_type": "skip"
    }
   },
   "outputs": [],
   "source": [
    "import json\n",
    "with open(\"C:\\\\Users\\\\feder\\\\OneDrive\\\\Documenti\\\\Fede\\\\University\\\\STAT_M1\\\\AlgoritmiPython\\\\project\\\\dpc-covid19-ita-province.json\") as f:\n",
    "\n",
    "         d = json.load(f) "
   ]
  },
  {
   "cell_type": "code",
   "execution_count": 2,
   "metadata": {
    "slideshow": {
     "slide_type": "skip"
    }
   },
   "outputs": [],
   "source": [
    "import networkx as nx\n",
    "import numpy as np\n",
    "import pandas as pd\n",
    "import matplotlib.pyplot as plt\n",
    "import timeit\n",
    "import random\n",
    "import math"
   ]
  },
  {
   "cell_type": "code",
   "execution_count": 3,
   "metadata": {
    "slideshow": {
     "slide_type": "skip"
    }
   },
   "outputs": [],
   "source": [
    "corona = pd.DataFrame(d)\n",
    "corona = corona.drop(corona[corona.lat==0.0].index)\n",
    "corona.reset_index(inplace=True)\n",
    "df = corona[0:107]"
   ]
  },
  {
   "cell_type": "markdown",
   "metadata": {
    "slideshow": {
     "slide_type": "slide"
    }
   },
   "source": [
    "## Graph bulding\n",
    "\n",
    "After converting our dataset in a pandas DataFrame, we extract all the 107 provinces at a particular moment of time. \n",
    "In this way we have all the italian provinces with the spatial information of latitude and longitude (in decimal degree) that allow us to to build the graph.\n",
    "\n",
    "The graph will be a nextwork of provinces called 'P' in which each node corresponds to a city.\n",
    "Two cities 'a' and 'b' are connected by an edge if they are within a distance of 0.8 decimal degree, both for latitude and longitude."
   ]
  },
  {
   "cell_type": "markdown",
   "metadata": {
    "slideshow": {
     "slide_type": "subslide"
    }
   },
   "source": [
    "NetworkX  is a python package useful for the implementation, manipulation, and study of standard, dynamics and complex graph structure.\n",
    "\n",
    "First we use networkx to create all the nodes, that are the provinces of a general graph 'G', through the command:"
   ]
  },
  {
   "cell_type": "code",
   "execution_count": 4,
   "metadata": {
    "scrolled": true,
    "slideshow": {
     "slide_type": "fragment"
    }
   },
   "outputs": [
    {
     "data": {
      "text/plain": [
       "107"
      ]
     },
     "execution_count": 4,
     "metadata": {},
     "output_type": "execute_result"
    }
   ],
   "source": [
    "G = nx.Graph()\n",
    "G.add_nodes_from(corona.sigla_provincia)\n",
    "G.number_of_nodes()"
   ]
  },
  {
   "cell_type": "markdown",
   "metadata": {
    "slideshow": {
     "slide_type": "slide"
    }
   },
   "source": [
    "## First implementation"
   ]
  },
  {
   "cell_type": "code",
   "execution_count": 5,
   "metadata": {
    "slideshow": {
     "slide_type": "fragment"
    }
   },
   "outputs": [
    {
     "name": "stdout",
     "output_type": "stream",
     "text": [
      "1.4 s ± 75.6 ms per loop (mean ± std. dev. of 7 runs, 1 loop each)\n"
     ]
    }
   ],
   "source": [
    "%%timeit\n",
    "for i in range(len(df)):\n",
    "    for j in range(len(df)):\n",
    "        if (i != j) & (abs(df.lat[i]-df.lat[j]) <= 0.8) & (abs(df.long[i]-df.long[j]) <= 0.8):\n",
    "            G.add_edge(df.sigla_provincia[i],df.sigla_provincia[j])"
   ]
  },
  {
   "cell_type": "markdown",
   "metadata": {
    "slideshow": {
     "slide_type": "fragment"
    }
   },
   "source": [
    "Our first implementation uses two **for** cycles to find the provinces close (in terms of latitude and longitude) to every node and finally add an edge to the graph 'G' if the proximity requirement is respected.\n",
    "\n",
    "This algorithm costs **O($n^2$)**, so we tried to find a better solution to add edges."
   ]
  },
  {
   "cell_type": "markdown",
   "metadata": {
    "slideshow": {
     "slide_type": "slide"
    }
   },
   "source": [
    "## Second implementation\n",
    "\n",
    "First we need to sort the DataFrame. We created two new sorted DataFrame one respect to longitude and the other respect to latitude. \n",
    "\n",
    "To do so, we chose the *mergesort* method, which seemed to be the most efficient, with a cost of **O($nlogn$)**"
   ]
  },
  {
   "cell_type": "code",
   "execution_count": 6,
   "metadata": {
    "slideshow": {
     "slide_type": "fragment"
    }
   },
   "outputs": [],
   "source": [
    "sorted_dfx = df.sort_values(by = 'long', kind = 'mergesort')\n",
    "sorted_dfx.reset_index(inplace = True)\n",
    "sorted_dfy = df.sort_values(by = 'lat', kind ='mergesort')\n",
    "sorted_dfy.reset_index(inplace = True)"
   ]
  },
  {
   "cell_type": "markdown",
   "metadata": {
    "slideshow": {
     "slide_type": "subslide"
    }
   },
   "source": [
    "This is important in order to use the *binarySearch* function:"
   ]
  },
  {
   "cell_type": "code",
   "execution_count": 7,
   "metadata": {
    "slideshow": {
     "slide_type": "fragment"
    }
   },
   "outputs": [],
   "source": [
    "def binarySearch(alist, item, prov, d):\n",
    "    first = 0\n",
    "    last = len(alist)-1\n",
    "    found = False\n",
    "    while first<=last and not found:\n",
    "        midpoint = (first + last)//2\n",
    "        if alist[midpoint]==float(item):\n",
    "            found = True\n",
    "            return list(prov[(alist>=float(alist[midpoint]-d)) & \n",
    "                             (alist<=float(alist[midpoint]+d))])\n",
    "        else:\n",
    "            if float(item) < alist[midpoint]:\n",
    "                last = midpoint-1\n",
    "            else:\n",
    "                first = midpoint+1\n",
    "    return []"
   ]
  },
  {
   "cell_type": "markdown",
   "metadata": {
    "slideshow": {
     "slide_type": "subslide"
    }
   },
   "source": [
    "Here the function *inter_city* will help us taking the interesection between the closest cities of a node in respect to both latitudine and longitude.\n",
    "\n",
    "We used a dictionary to collect the cities to have a more efficient function. In the worst case it takes **O($n$)**."
   ]
  },
  {
   "cell_type": "code",
   "execution_count": 8,
   "metadata": {
    "slideshow": {
     "slide_type": "fragment"
    }
   },
   "outputs": [],
   "source": [
    "def inter_city(A,B,elem):\n",
    "    C = {}\n",
    "    for el in B:\n",
    "        if el!=elem and el not in C and el in A:\n",
    "            C[el]=0\n",
    "    return C"
   ]
  },
  {
   "cell_type": "markdown",
   "metadata": {
    "slideshow": {
     "slide_type": "subslide"
    }
   },
   "source": [
    "### Graph P\n",
    "Finally we can implement our provinces graph:"
   ]
  },
  {
   "cell_type": "code",
   "execution_count": 9,
   "metadata": {
    "slideshow": {
     "slide_type": "fragment"
    }
   },
   "outputs": [],
   "source": [
    "P = nx.Graph()\n",
    "P.add_nodes_from(sorted_dfx.sigla_provincia)"
   ]
  },
  {
   "cell_type": "code",
   "execution_count": 10,
   "metadata": {
    "slideshow": {
     "slide_type": "fragment"
    }
   },
   "outputs": [
    {
     "name": "stdout",
     "output_type": "stream",
     "text": [
      "871 ms ± 29.2 ms per loop (mean ± std. dev. of 7 runs, 1 loop each)\n"
     ]
    }
   ],
   "source": [
    "%%timeit\n",
    "for el in sorted_dfx.sigla_provincia:\n",
    "    lista_legami_x = binarySearch(sorted_dfx.long, sorted_dfx.long[sorted_dfx.sigla_provincia==el], \n",
    "                                  sorted_dfx.sigla_provincia, 0.8)\n",
    "    lista_legami_y = binarySearch(sorted_dfy.lat, sorted_dfy.lat[sorted_dfy.sigla_provincia==el], \n",
    "                                  sorted_dfy.sigla_provincia, 0.8)\n",
    "    lst_x = {j:0 for j in lista_legami_x}\n",
    "    lst_y = {j:0 for j in lista_legami_y}\n",
    "    città_vicine = inter_city(lst_x, lst_y, el)\n",
    "    edge_city = []\n",
    "    for j in città_vicine:\n",
    "        edge_city.append((el, j))\n",
    "    P.add_edges_from(edge_city)"
   ]
  },
  {
   "cell_type": "code",
   "execution_count": 11,
   "metadata": {
    "scrolled": false,
    "slideshow": {
     "slide_type": "fragment"
    }
   },
   "outputs": [
    {
     "data": {
      "text/plain": [
       "298"
      ]
     },
     "execution_count": 11,
     "metadata": {},
     "output_type": "execute_result"
    }
   ],
   "source": [
    "P.number_of_edges()"
   ]
  },
  {
   "cell_type": "code",
   "execution_count": 13,
   "metadata": {
    "slideshow": {
     "slide_type": "subslide"
    }
   },
   "outputs": [
    {
     "data": {
      "image/png": "[encoded data removed]",
      "text/plain": [
       "<Figure size 432x288 with 1 Axes>"
      ]
     },
     "metadata": {},
     "output_type": "display_data"
    }
   ],
   "source": [
    "nx.draw(P, with_labels=True, node_color='lightpink')"
   ]
  },
  {
   "cell_type": "markdown",
   "metadata": {
    "slideshow": {
     "slide_type": "fragment"
    }
   },
   "source": [
    "We can observe that this node is made by four different components:\n",
    "- The province of Trapani is an isolated node\n",
    "- All the provinces of Sardinia make a single component\n",
    "- All the provinces of Calabria and Sicily regions (except from Trapani) make a single component\n",
    "- The rest of Italy's provinces are connected by edges"
   ]
  },
  {
   "cell_type": "markdown",
   "metadata": {
    "slideshow": {
     "slide_type": "subslide"
    }
   },
   "source": [
    "### Graph R\n",
    "\n",
    "In order to evaluate the efficiency of our second implemention we build a larger graph 'R'. \n",
    "\n",
    "First we generate 2000 pairs of double (x,y) with x in [30,50) and y in [10,20], which will correspond to fictitious provinces with their longitude (x) and latitude (y), and insert them in a DataFrame:"
   ]
  },
  {
   "cell_type": "code",
   "execution_count": 14,
   "metadata": {
    "slideshow": {
     "slide_type": "fragment"
    }
   },
   "outputs": [],
   "source": [
    "latit = [] \n",
    "longit = []  \n",
    "nodes = [] \n",
    "for i in range(2000):\n",
    "    latit.append(random.uniform(30,50))\n",
    "    longit.append(random.uniform(10,20))\n",
    "    nodes.append(str(i))\n",
    "    \n",
    "dataRandom = {'province': nodes,\n",
    "              'longitudine' : longit,\n",
    "              'latitudine' : latit}    \n",
    "\n",
    "dataR = pd.DataFrame(dataRandom, columns = ['province', 'longitudine', 'latitudine'])"
   ]
  },
  {
   "cell_type": "markdown",
   "metadata": {
    "slideshow": {
     "slide_type": "subslide"
    }
   },
   "source": [
    "Again, after building a new graph 'R', we create new DataFrames sorting dataR once for x and once for y:"
   ]
  },
  {
   "cell_type": "code",
   "execution_count": 15,
   "metadata": {
    "slideshow": {
     "slide_type": "fragment"
    }
   },
   "outputs": [],
   "source": [
    "R = nx.Graph()\n",
    "R.add_nodes_from(dataR.province)\n",
    "R.number_of_nodes()\n",
    "\n",
    "sort_dataRx= dataR.sort_values(by = 'longitudine', kind = 'mergesort')\n",
    "sort_dataRx.reset_index(inplace = True)\n",
    "sort_dataRy = dataR.sort_values(by = 'latitudine', kind ='mergesort')\n",
    "sort_dataRy.reset_index(inplace = True)"
   ]
  },
  {
   "cell_type": "markdown",
   "metadata": {
    "slideshow": {
     "slide_type": "subslide"
    }
   },
   "source": [
    "Now we add edges to the graph R for the provinces that has both latitude and longitude within 0.08 degree from the ones of the node:"
   ]
  },
  {
   "cell_type": "code",
   "execution_count": 16,
   "metadata": {
    "slideshow": {
     "slide_type": "fragment"
    }
   },
   "outputs": [
    {
     "name": "stdout",
     "output_type": "stream",
     "text": [
      "16.3 s ± 456 ms per loop (mean ± std. dev. of 7 runs, 1 loop each)\n"
     ]
    }
   ],
   "source": [
    "%%timeit\n",
    "for el in sort_dataRx.province:\n",
    "    lista_legami_x = binarySearch(sort_dataRx.longitudine, sort_dataRx.longitudine[sort_dataRx.province==el], sort_dataRx.province, 0.08)\n",
    "    lista_legami_y = binarySearch(sort_dataRy.latitudine, sort_dataRy.latitudine[sort_dataRy.province==el], sort_dataRy.province, 0.08)\n",
    "    lst_x = {j:0 for j in lista_legami_x}\n",
    "    lst_y = {j:0 for j in lista_legami_y}\n",
    "    città_vicine = inter_city(lst_x, lst_y, el)\n",
    "    edge_city = []\n",
    "    for j in città_vicine:\n",
    "        edge_city.append((el, j))\n",
    "    R.add_edges_from(edge_city)"
   ]
  },
  {
   "cell_type": "code",
   "execution_count": 17,
   "metadata": {
    "slideshow": {
     "slide_type": "fragment"
    }
   },
   "outputs": [
    {
     "data": {
      "text/plain": [
       "271"
      ]
     },
     "execution_count": 17,
     "metadata": {},
     "output_type": "execute_result"
    }
   ],
   "source": [
    "R.number_of_edges()"
   ]
  },
  {
   "cell_type": "markdown",
   "metadata": {
    "slideshow": {
     "slide_type": "subslide"
    }
   },
   "source": [
    "Here we show how the graph R appears: "
   ]
  },
  {
   "cell_type": "code",
   "execution_count": 18,
   "metadata": {
    "slideshow": {
     "slide_type": "fragment"
    }
   },
   "outputs": [
    {
     "data": {
      "image/png": "[encoded data removed]",
      "text/plain": [
       "<Figure size 432x288 with 1 Axes>"
      ]
     },
     "metadata": {},
     "output_type": "display_data"
    }
   ],
   "source": [
    "nx.draw(R, node_color='red')"
   ]
  },
  {
   "cell_type": "markdown",
   "metadata": {
    "slideshow": {
     "slide_type": "slide"
    }
   },
   "source": [
    "## Weighted Graph\n",
    "\n",
    "Now we weight both the graph P and R for the distance. \n",
    "\n",
    "### Graph P"
   ]
  },
  {
   "cell_type": "code",
   "execution_count": 19,
   "metadata": {
    "slideshow": {
     "slide_type": "fragment"
    }
   },
   "outputs": [
    {
     "name": "stdout",
     "output_type": "stream",
     "text": [
      "3.71 s ± 91.4 ms per loop (mean ± std. dev. of 7 runs, 1 loop each)\n"
     ]
    }
   ],
   "source": [
    "%%timeit\n",
    "for el in sorted_dfx.sigla_provincia:\n",
    "    lista_legami_x = binarySearch(sorted_dfx.long, sorted_dfx.long[sorted_dfx.sigla_provincia==el], sorted_dfx.sigla_provincia, 0.8)\n",
    "    lista_legami_y = binarySearch(sorted_dfy.lat, sorted_dfy.lat[sorted_dfy.sigla_provincia==el], sorted_dfy.sigla_provincia, 0.8)\n",
    "    lst_x = {j:0 for j in lista_legami_x}\n",
    "    lst_y = {j:0 for j in lista_legami_y}\n",
    "    città_vicine = inter_city(lst_x, lst_y, el)\n",
    "    edge_city = []\n",
    "    for j in città_vicine:\n",
    "        distanza_x = (float(sorted_dfx.long[sorted_dfx.sigla_provincia==el])-float(sorted_dfx.long[sorted_dfx.sigla_provincia==j]))**2\n",
    "        distanza_y = (float(sorted_dfy.lat[sorted_dfy.sigla_provincia==el])-float(sorted_dfy.lat[sorted_dfy.sigla_provincia==j]))**2\n",
    "        distanza = math.sqrt(distanza_x+distanza_y)\n",
    "        edge_city.append((el, j, distanza))\n",
    "    P.add_weighted_edges_from(edge_city)"
   ]
  },
  {
   "cell_type": "code",
   "execution_count": 20,
   "metadata": {
    "slideshow": {
     "slide_type": "fragment"
    }
   },
   "outputs": [
    {
     "data": {
      "text/plain": [
       "298"
      ]
     },
     "execution_count": 20,
     "metadata": {},
     "output_type": "execute_result"
    }
   ],
   "source": [
    "P.number_of_edges()"
   ]
  },
  {
   "cell_type": "code",
   "execution_count": 21,
   "metadata": {
    "scrolled": true,
    "slideshow": {
     "slide_type": "subslide"
    }
   },
   "outputs": [
    {
     "data": {
      "image/png": "[encoded data removed]",
      "text/plain": [
       "<Figure size 432x288 with 1 Axes>"
      ]
     },
     "metadata": {},
     "output_type": "display_data"
    }
   ],
   "source": [
    "nx.draw(P, with_labels=True, node_color='lightpink')"
   ]
  },
  {
   "cell_type": "markdown",
   "metadata": {
    "slideshow": {
     "slide_type": "subslide"
    }
   },
   "source": [
    "### Graph R"
   ]
  },
  {
   "cell_type": "code",
   "execution_count": 22,
   "metadata": {
    "slideshow": {
     "slide_type": "fragment"
    }
   },
   "outputs": [
    {
     "data": {
      "text/plain": [
       "271"
      ]
     },
     "execution_count": 22,
     "metadata": {},
     "output_type": "execute_result"
    }
   ],
   "source": [
    "for el in sort_dataRx.province:\n",
    "    lista_legami_x = binarySearch(sort_dataRx.longitudine, sort_dataRx.longitudine[sort_dataRx.province==el], sort_dataRx.province, 0.08)\n",
    "    lista_legami_y = binarySearch(sort_dataRy.latitudine, sort_dataRy.latitudine[sort_dataRy.province==el], sort_dataRy.province, 0.08)\n",
    "    lst_x = {j:0 for j in lista_legami_x}\n",
    "    lst_y = {j:0 for j in lista_legami_y}\n",
    "    città_vicine = inter_city(lst_x, lst_y, el)\n",
    "    edge_city = []\n",
    "    for j in città_vicine:\n",
    "        distanza_x = (float(sort_dataRx.longitudine[sort_dataRx.province==el])-float(sort_dataRx.longitudine[sort_dataRx.province==j]))**2\n",
    "        distanza_y = (float(sort_dataRy.latitudine[sort_dataRy.province==el])-float(sort_dataRy.latitudine[sort_dataRy.province==j]))**2\n",
    "        distanza = math.sqrt(distanza_x+distanza_y)\n",
    "        edge_city.append((el, j, distanza))\n",
    "    R.add_weighted_edges_from(edge_city)\n",
    " \n",
    "R.number_of_edges()"
   ]
  },
  {
   "cell_type": "markdown",
   "metadata": {
    "slideshow": {
     "slide_type": "slide"
    }
   },
   "source": [
    "## Bellman Ford\n",
    "\n",
    "We decided to use Bellman Ford algorithm in order to get the shortest path from a single source vertex to all the others part of the same weighted graph. \n",
    "\n",
    "Bellman-Ford algorithm proceeds by relaxation, in which approximations to the correct distance are replaced by better ones until they eventually reach the solution.\n",
    "\n",
    "It is comparable with Dijkstra's algorithm for how they work. In both algorithms, the approximate distance to each vertex is always an overestimate of the true distance, and is replaced by the minimum of its old value and the length of a newly found path.\n",
    "\n",
    "Even if Bellman-Ford algorithm is slower than Dijkstra's, it is able to deal with graphs in which some of the edge weights are negative numbers. For sure this is not our case because the weights of our graphs are geographical distances and they can never be negative."
   ]
  },
  {
   "cell_type": "markdown",
   "metadata": {
    "slideshow": {
     "slide_type": "subslide"
    }
   },
   "source": [
    "Here we analyze the three steps of the algorithm. \n",
    "\n",
    "We start it inizializing the distance from the source vertex to itself to 0 and to all the other nodes to infinity, while the all the predecessor nodes are set to **None**."
   ]
  },
  {
   "cell_type": "code",
   "execution_count": 23,
   "metadata": {
    "slideshow": {
     "slide_type": "fragment"
    }
   },
   "outputs": [],
   "source": [
    "def bell_ford(graph, source):\n",
    "    \n",
    "    #Inizialization\n",
    "    dist = {}\n",
    "    pred = {}\n",
    "    \n",
    "    for v in graph.node():\n",
    "        dist[v] = math.inf\n",
    "        pred[v] = None\n",
    "    \n",
    "    dist[source] = 0"
   ]
  },
  {
   "cell_type": "markdown",
   "metadata": {
    "slideshow": {
     "slide_type": "subslide"
    }
   },
   "source": [
    "After inizializing we proceed with the relaxation: for all edges, if the distance to the destination can be shortened by taking the edge, the distance is updated to the new lower value.\n",
    "\n",
    "At each iteration *i* that the edges are scanned, the algorithm finds all shortest paths of at most length i edges. \n",
    "\n",
    "Because of the simmetry of our graph we need to consider both the direction from the vertex u to v and viceversa. This is important to collect all the distances for both the nodes involved in the edge. \n",
    "\n",
    "If the graph is connected we get at most $|V|-1$ edges in our path. "
   ]
  },
  {
   "cell_type": "code",
   "execution_count": null,
   "metadata": {
    "slideshow": {
     "slide_type": "fragment"
    }
   },
   "outputs": [],
   "source": [
    " #Relaxation\n",
    "    for i in range(len(graph)-1):\n",
    "        for (u, v) in graph.edges(): \n",
    "            if dist[v] > dist[u] + graph[u][v]['weight']:\n",
    "                dist[v]  = dist[u] + graph[u][v]['weight']\n",
    "                pred[v] = u\n",
    "            if dist[u] > dist[v] + graph[u][v]['weight']:\n",
    "                dist[u]  = dist[v] + graph[u][v]['weight']\n",
    "                pred[u] = v  "
   ]
  },
  {
   "cell_type": "markdown",
   "metadata": {
    "slideshow": {
     "slide_type": "subslide"
    }
   },
   "source": [
    "The last step of the algorithm is needed to detect the presence of negative-weight cycle. In fact, without this part, if the algorithm finds a negative-weight cycle, it would enter in an Infinite Loop. \n",
    "\n",
    "Thanks to this third step if it happens to find one negative-weight cycle the algorithm will return an AssertionError, while if there aren't it will go on returning the shortest path from the source vertex to all the others.\n",
    "\n",
    "Finally the algorithm returns the shortest path in terms of distance and the predecessor to the final node. "
   ]
  },
  {
   "cell_type": "code",
   "execution_count": null,
   "metadata": {
    "slideshow": {
     "slide_type": "fragment"
    }
   },
   "outputs": [],
   "source": [
    "#Check for negative-weight cycles\n",
    "    for (u, v) in graph.edges():\n",
    "        assert dist[v] <= dist[u] + graph[u][v]['weight']\n",
    "    return dist, pred"
   ]
  },
  {
   "cell_type": "markdown",
   "metadata": {
    "slideshow": {
     "slide_type": "subslide"
    }
   },
   "source": [
    "Below there is the complete algorithm."
   ]
  },
  {
   "cell_type": "code",
   "execution_count": 24,
   "metadata": {
    "slideshow": {
     "slide_type": "fragment"
    }
   },
   "outputs": [],
   "source": [
    "def bell_ford(graph, source):\n",
    "    \n",
    "    #Inizialization\n",
    "    dist = {}\n",
    "    pred = {}\n",
    "    \n",
    "    for v in graph.node():\n",
    "        dist[v] = math.inf\n",
    "        pred[v] = None\n",
    "    \n",
    "    dist[source] = 0\n",
    "    \n",
    "    #Relaxation\n",
    "    for i in range(len(graph)-1): \n",
    "        for (u, v) in graph.edges():\n",
    "            if dist[v] > dist[u] + graph[u][v]['weight']:\n",
    "                dist[v]  = dist[u] + graph[u][v]['weight']\n",
    "                pred[v] = u\n",
    "            if dist[u] > dist[v] + graph[u][v]['weight']:\n",
    "                dist[u]  = dist[v] + graph[u][v]['weight']\n",
    "                pred[u] = v\n",
    "    #Check for negative-weight cycles\n",
    "    for (u, v) in graph.edges():\n",
    "        assert dist[v] <= dist[u] + graph[u][v]['weight']\n",
    "    return dist, pred"
   ]
  },
  {
   "cell_type": "markdown",
   "metadata": {
    "slideshow": {
     "slide_type": "subslide"
    }
   },
   "source": [
    "Here we show some results for both the weighted graph P and R:"
   ]
  },
  {
   "cell_type": "code",
   "execution_count": 25,
   "metadata": {
    "scrolled": true,
    "slideshow": {
     "slide_type": "fragment"
    }
   },
   "outputs": [
    {
     "data": {
      "text/plain": [
       "{'AO': inf,\n",
       " 'CN': inf,\n",
       " 'TO': inf,\n",
       " 'IM': inf,\n",
       " 'BI': inf,\n",
       " 'AT': inf,\n",
       " 'VC': inf,\n",
       " 'SV': inf,\n",
       " 'SU': 0.740250172463474,\n",
       " 'VB': inf,\n",
       " 'SS': 1.7196725528522232,\n",
       " 'OR': 0,\n",
       " 'AL': inf,\n",
       " 'NO': inf,\n",
       " 'VA': inf,\n",
       " 'GE': inf,\n",
       " 'CO': inf,\n",
       " 'CA': 0.8624624289930692,\n",
       " 'PV': inf,\n",
       " 'MI': inf,\n",
       " 'MB': inf,\n",
       " 'NU': 0.8498034758071785,\n",
       " 'LC': inf,\n",
       " 'LO': inf,\n",
       " 'BG': inf,\n",
       " 'PC': inf,\n",
       " 'SP': inf,\n",
       " 'SO': inf,\n",
       " 'CR': inf,\n",
       " 'MS': inf,\n",
       " 'BS': inf,\n",
       " 'LI': inf,\n",
       " 'PR': inf,\n",
       " 'PI': inf,\n",
       " 'LU': inf,\n",
       " 'RE': inf,\n",
       " 'MN': inf,\n",
       " 'PT': inf,\n",
       " 'MO': inf,\n",
       " 'VR': inf,\n",
       " 'PO': inf,\n",
       " 'GR': inf,\n",
       " 'TN': inf,\n",
       " 'FI': inf,\n",
       " 'SI': inf,\n",
       " 'BO': inf,\n",
       " 'BZ': inf,\n",
       " 'VI': inf,\n",
       " 'FE': inf,\n",
       " 'RO': inf,\n",
       " 'PD': inf,\n",
       " 'AR': inf,\n",
       " 'FC': inf,\n",
       " 'VT': inf,\n",
       " 'RA': inf,\n",
       " 'BL': inf,\n",
       " 'TV': inf,\n",
       " 'VE': inf,\n",
       " 'PG': inf,\n",
       " 'RM': inf,\n",
       " 'TP': inf,\n",
       " 'RN': inf,\n",
       " 'TR': inf,\n",
       " 'PN': inf,\n",
       " 'RI': inf,\n",
       " 'LT': inf,\n",
       " 'PU': inf,\n",
       " 'UD': inf,\n",
       " 'FR': inf,\n",
       " 'PA': inf,\n",
       " 'AQ': inf,\n",
       " 'MC': inf,\n",
       " 'AN': inf,\n",
       " 'AP': inf,\n",
       " 'AG': inf,\n",
       " 'GO': inf,\n",
       " 'TE': inf,\n",
       " 'FM': inf,\n",
       " 'TS': inf,\n",
       " 'CL': inf,\n",
       " 'CH': inf,\n",
       " 'PE': inf,\n",
       " 'IS': inf,\n",
       " 'NA': inf,\n",
       " 'EN': inf,\n",
       " 'CE': inf,\n",
       " 'CB': inf,\n",
       " 'RG': inf,\n",
       " 'SA': inf,\n",
       " 'BN': inf,\n",
       " 'AV': inf,\n",
       " 'CT': inf,\n",
       " 'SR': inf,\n",
       " 'FG': inf,\n",
       " 'ME': inf,\n",
       " 'RC': inf,\n",
       " 'PZ': inf,\n",
       " 'VV': inf,\n",
       " 'CS': inf,\n",
       " 'BT': inf,\n",
       " 'CZ': inf,\n",
       " 'MT': inf,\n",
       " 'BA': inf,\n",
       " 'KR': inf,\n",
       " 'TA': inf,\n",
       " 'BR': inf,\n",
       " 'LE': inf}"
      ]
     },
     "execution_count": 25,
     "metadata": {},
     "output_type": "execute_result"
    }
   ],
   "source": [
    "bell_ford(P, 'OR')[0]"
   ]
  },
  {
   "cell_type": "code",
   "execution_count": 27,
   "metadata": {
    "slideshow": {
     "slide_type": "subslide"
    }
   },
   "outputs": [
    {
     "data": {
      "text/plain": [
       "{'AO': 4.675938602059482,\n",
       " 'CN': 4.590160032596122,\n",
       " 'TO': 4.277376459854526,\n",
       " 'IM': 4.2712585954295115,\n",
       " 'BI': 3.9223501837744994,\n",
       " 'AT': 3.7641830357867083,\n",
       " 'VC': 3.4936483705946872,\n",
       " 'SV': 3.6521004575072857,\n",
       " 'SU': inf,\n",
       " 'VB': 3.6118090988076514,\n",
       " 'SS': inf,\n",
       " 'OR': inf,\n",
       " 'AL': 3.3526914717217955,\n",
       " 'NO': 3.341845407038481,\n",
       " 'VA': 3.3217590216925172,\n",
       " 'GE': 3.1886917441578944,\n",
       " 'CO': 3.108489622322783,\n",
       " 'CA': inf,\n",
       " 'PV': 2.743751442104437,\n",
       " 'MI': 2.8383811890577535,\n",
       " 'MB': 2.8145527133321053,\n",
       " 'NU': inf,\n",
       " 'LC': 2.897896796178257,\n",
       " 'LO': 2.4899207000144634,\n",
       " 'BG': 2.6031924251975127,\n",
       " 'PC': 2.194878856507165,\n",
       " 'SP': 1.480064153281735,\n",
       " 'SO': 2.916680306566009,\n",
       " 'CR': 1.9388461306118256,\n",
       " 'MS': 1.158730052820822,\n",
       " 'BS': 2.196204891158707,\n",
       " 'LI': 1.0479904347597764,\n",
       " 'PR': 1.5114554827458029,\n",
       " 'PI': 0.9090976243535391,\n",
       " 'LU': 0.7581033865922108,\n",
       " 'RE': 1.1923959636934516,\n",
       " 'MN': 1.5066191123465291,\n",
       " 'PT': 0.3762807696116089,\n",
       " 'MO': 0.9782393770521545,\n",
       " 'VR': 1.7734886978049966,\n",
       " 'PO': 0.1940188248675135,\n",
       " 'GR': 1.0565301897514545,\n",
       " 'TN': 2.416835336801886,\n",
       " 'FI': 0,\n",
       " 'SI': 0.45742831411629875,\n",
       " 'BO': 0.7301981923749794,\n",
       " 'BZ': 2.907399953220457,\n",
       " 'VI': 1.8852044762788323,\n",
       " 'FE': 1.1699919586514613,\n",
       " 'RO': 1.4606822153690544,\n",
       " 'PD': 1.7962706606645695,\n",
       " 'AR': 0.6957487007265832,\n",
       " 'FC': 0.9063817992418559,\n",
       " 'VT': 2.0619171680907358,\n",
       " 'RA': 1.1572861570166784,\n",
       " 'BL': 2.6032789332747246,\n",
       " 'TV': 2.210887606120097,\n",
       " 'VE': 2.106344698416015,\n",
       " 'PG': 1.316519119550747,\n",
       " 'RM': 2.6081843309569384,\n",
       " 'TP': inf,\n",
       " 'RN': 1.455690355361979,\n",
       " 'TR': 1.9206362860327602,\n",
       " 'PN': 2.7153613541376465,\n",
       " 'RI': 2.1633516116255205,\n",
       " 'LT': 3.205837438295872,\n",
       " 'PU': 1.8347876473744476,\n",
       " 'UD': 3.300250657706206,\n",
       " 'FR': 3.071548235851179,\n",
       " 'PA': inf,\n",
       " 'AQ': 2.701030724713302,\n",
       " 'MC': 2.64913413616729,\n",
       " 'AN': 2.507543119080549,\n",
       " 'AP': 3.007164808126677,\n",
       " 'AG': inf,\n",
       " 'GO': 3.7060163515693256,\n",
       " 'TE': 3.134953639132376,\n",
       " 'FM': 2.9489670778915564,\n",
       " 'TS': 3.974843049865897,\n",
       " 'CL': inf,\n",
       " 'CH': 3.470138258253758,\n",
       " 'PE': 3.592692596277702,\n",
       " 'IS': 4.235378700134223,\n",
       " 'NA': 4.984242030671936,\n",
       " 'EN': inf,\n",
       " 'CE': 4.759689707740966,\n",
       " 'CB': 4.403403918712774,\n",
       " 'RG': inf,\n",
       " 'SA': 5.299882987586679,\n",
       " 'BN': 4.8485958737573025,\n",
       " 'AV': 5.0613409216026035,\n",
       " 'CT': inf,\n",
       " 'SR': inf,\n",
       " 'FG': 5.679580948306888,\n",
       " 'ME': inf,\n",
       " 'RC': inf,\n",
       " 'PZ': 7.232773648139506,\n",
       " 'VV': inf,\n",
       " 'CS': inf,\n",
       " 'BT': 6.4676560315843945,\n",
       " 'CZ': inf,\n",
       " 'MT': 7.103834407683047,\n",
       " 'BA': 7.048743846339997,\n",
       " 'KR': inf,\n",
       " 'TA': 7.767269160606496,\n",
       " 'BR': 8.499725464241934,\n",
       " 'LE': 8.863338940236929}"
      ]
     },
     "execution_count": 27,
     "metadata": {},
     "output_type": "execute_result"
    }
   ],
   "source": [
    "bell_ford(P, 'FI')[0]"
   ]
  },
  {
   "cell_type": "markdown",
   "metadata": {
    "slideshow": {
     "slide_type": "subslide"
    }
   },
   "source": [
    "Both graphs 'P' and 'R' are not connected, so the path from a source vertex of a specific compontent to other nodes that aren't part of that component is set to Infinity. \n",
    "\n",
    "In fact we can see that the province of Trapani, which builds itself a component, has all the paths set to infinity except for the one with itself, which is 0. \n",
    "\n",
    "The complexity of this algorithm is **$O(|V|\\times|E|)$**, where $|V|$ is the number of vertices and $|E|$ is the number of edges."
   ]
  },
  {
   "cell_type": "markdown",
   "metadata": {
    "slideshow": {
     "slide_type": "slide"
    }
   },
   "source": [
    "## Closeness Centrality\n",
    "\n",
    "In a connected graph, the closeness centrality of a node is a measure of centrality in a network, calculated as the reciprocal of the sum of the length of the shortest paths between the node and all other nodes in the graph.\n",
    "\n",
    "The closeness centrality of a node v in a graph V is defined as:\n",
    "\n",
    "$$c(v) =\\frac {|V|−1}{f(v)}$$\n",
    "\n",
    "where $|V|$ are the number of nodes and $f(v)$ is the farness of a node $v$ equal to $\\Sigma_{w \\in V}d(v,w)$, that is the sum of the distances between the two vertices $v$ and $w$.\n",
    "\n",
    "Since we don't have a connected graph we use its variance in which, instead of the reciprocal of the sum, we sum the reciprocal of the distances (infact, when a distance is infinite we'll have to sum $\\frac{1}{\\infty}=0$)."
   ]
  },
  {
   "cell_type": "markdown",
   "metadata": {
    "slideshow": {
     "slide_type": "subslide"
    }
   },
   "source": [
    "We first define a closeness centrality algorithm based on the distance computed with **Bellman-Ford**:"
   ]
  },
  {
   "cell_type": "code",
   "execution_count": 29,
   "metadata": {
    "slideshow": {
     "slide_type": "fragment"
    }
   },
   "outputs": [],
   "source": [
    "def closeness(graph, u):\n",
    "    dizy_dist = bell_ford(graph, u)[0]\n",
    "    close = 0.0\n",
    "    for key in dizy_dist:\n",
    "        if dizy_dist[key] != 0 and dizy_dist[key] != math.inf:\n",
    "            close = close + 1/dizy_dist[key]\n",
    "    return close"
   ]
  },
  {
   "cell_type": "code",
   "execution_count": 30,
   "metadata": {
    "slideshow": {
     "slide_type": "fragment"
    }
   },
   "outputs": [
    {
     "data": {
      "text/plain": [
       "0.0"
      ]
     },
     "execution_count": 30,
     "metadata": {},
     "output_type": "execute_result"
    }
   ],
   "source": [
    "closeness(P,'TP')"
   ]
  },
  {
   "cell_type": "code",
   "execution_count": 31,
   "metadata": {
    "slideshow": {
     "slide_type": "fragment"
    }
   },
   "outputs": [
    {
     "data": {
      "text/plain": [
       "47.79339550808952"
      ]
     },
     "execution_count": 31,
     "metadata": {},
     "output_type": "execute_result"
    }
   ],
   "source": [
    "closeness(P,'FI') "
   ]
  },
  {
   "cell_type": "markdown",
   "metadata": {
    "slideshow": {
     "slide_type": "subslide"
    }
   },
   "source": [
    "For a better interpretation we now use an algorithm which returns the **normalized** closeness index based on **Bellman-Ford** distance: "
   ]
  },
  {
   "cell_type": "code",
   "execution_count": 32,
   "metadata": {
    "slideshow": {
     "slide_type": "fragment"
    }
   },
   "outputs": [],
   "source": [
    "def closeness_norm_dist(graph, u):\n",
    "    dizy_dist = bell_ford(graph, u)[0]\n",
    "    total = 0\n",
    "    n_short_path = 0\n",
    "    cc= 0.0\n",
    "    for key in dizy_dist:\n",
    "        if dizy_dist[key] != 0 and dizy_dist[key] != math.inf:\n",
    "            total = total + dizy_dist[key]\n",
    "            n_short_path+=1\n",
    "    if total > 0.0 and len(graph)>1:\n",
    "        s = (n_short_path)/(len(graph)-1)\n",
    "        cc = ((n_short_path)/total)*s\n",
    "    return cc"
   ]
  },
  {
   "cell_type": "markdown",
   "metadata": {
    "slideshow": {
     "slide_type": "fragment"
    }
   },
   "source": [
    "The cost of the previous closeness algorithms is given by Bellman Ford's complexity plus the *for* cycle that cost **$O(|V|)$**, so it is approximated to **$O(|V|\\times|E|)$**, where $|V|$ is the number of vertices and $|E|$ is the number of edges."
   ]
  },
  {
   "cell_type": "markdown",
   "metadata": {
    "slideshow": {
     "slide_type": "subslide"
    }
   },
   "source": [
    "Here some examples and a check"
   ]
  },
  {
   "cell_type": "code",
   "execution_count": 33,
   "metadata": {
    "slideshow": {
     "slide_type": "fragment"
    }
   },
   "outputs": [
    {
     "data": {
      "text/plain": [
       "0.0"
      ]
     },
     "execution_count": 33,
     "metadata": {},
     "output_type": "execute_result"
    }
   ],
   "source": [
    "closeness_norm_dist(P,'TP')"
   ]
  },
  {
   "cell_type": "code",
   "execution_count": 34,
   "metadata": {
    "slideshow": {
     "slide_type": "fragment"
    }
   },
   "outputs": [
    {
     "data": {
      "text/plain": [
       "0.2702143847929363"
      ]
     },
     "execution_count": 34,
     "metadata": {},
     "output_type": "execute_result"
    }
   ],
   "source": [
    "closeness_norm_dist(P,'FI')"
   ]
  },
  {
   "cell_type": "code",
   "execution_count": 35,
   "metadata": {
    "slideshow": {
     "slide_type": "fragment"
    }
   },
   "outputs": [
    {
     "data": {
      "text/plain": [
       "0.2702143847929362"
      ]
     },
     "execution_count": 35,
     "metadata": {},
     "output_type": "execute_result"
    }
   ],
   "source": [
    "nx.closeness_centrality(P,distance = 'weight')['FI']"
   ]
  },
  {
   "cell_type": "markdown",
   "metadata": {
    "slideshow": {
     "slide_type": "subslide"
    }
   },
   "source": [
    "Furthermore we implemented the same **normalized** closeness algorithm but using the **shortest path length** of *NetworkX* (without specificating weights) instead of Bellman-Ford:"
   ]
  },
  {
   "cell_type": "code",
   "execution_count": 36,
   "metadata": {
    "slideshow": {
     "slide_type": "fragment"
    }
   },
   "outputs": [],
   "source": [
    "def closeness_norm_short(graph, u):\n",
    "    dizy_dist = nx.shortest_path_length(graph, u)\n",
    "    total = 0\n",
    "    n_short_path = 0\n",
    "    cc = 0.0\n",
    "    for key in dizy_dist:\n",
    "        if dizy_dist[key] != 0 and dizy_dist[key] != math.inf:\n",
    "            total = total + dizy_dist[key]\n",
    "            n_short_path+=1\n",
    "    if total > 0.0 and len(graph)>1:\n",
    "        s = (n_short_path)/(len(graph)-1)\n",
    "        cc = ((n_short_path)/total)*s\n",
    "    return cc    "
   ]
  },
  {
   "cell_type": "markdown",
   "metadata": {},
   "source": [
    "The cost of this closeness algorithm is given by the complexity of the *nx.shortest_path_length* computation (BFS), that costs  **$O(|V|+|E|)$**, plus the *for* cycle that cost **$O(|V|)$**, so it is approximated to **$O(|V|+|E|)$**, where $|V|$ is the number of vertices and $|E|$ is the number of edges."
   ]
  },
  {
   "cell_type": "markdown",
   "metadata": {
    "slideshow": {
     "slide_type": "subslide"
    }
   },
   "source": [
    "Here some examples and a check"
   ]
  },
  {
   "cell_type": "code",
   "execution_count": 37,
   "metadata": {
    "slideshow": {
     "slide_type": "fragment"
    }
   },
   "outputs": [
    {
     "data": {
      "text/plain": [
       "0.0"
      ]
     },
     "execution_count": 37,
     "metadata": {},
     "output_type": "execute_result"
    }
   ],
   "source": [
    "closeness_norm_short(P,'TP')"
   ]
  },
  {
   "cell_type": "code",
   "execution_count": 38,
   "metadata": {
    "slideshow": {
     "slide_type": "fragment"
    }
   },
   "outputs": [
    {
     "data": {
      "text/plain": [
       "0.1789615548304724"
      ]
     },
     "execution_count": 38,
     "metadata": {},
     "output_type": "execute_result"
    }
   ],
   "source": [
    "closeness_norm_short(P,'FI')"
   ]
  },
  {
   "cell_type": "code",
   "execution_count": 39,
   "metadata": {
    "slideshow": {
     "slide_type": "fragment"
    }
   },
   "outputs": [
    {
     "data": {
      "text/plain": [
       "0.1789615548304724"
      ]
     },
     "execution_count": 39,
     "metadata": {},
     "output_type": "execute_result"
    }
   ],
   "source": [
    "nx.closeness_centrality(P)['FI']"
   ]
  },
  {
   "cell_type": "markdown",
   "metadata": {
    "slideshow": {
     "slide_type": "subslide"
    }
   },
   "source": [
    "Finally through the following algorithm we'll get the **most central node** of a graph based on our algorithm (which uses normalized Bellman-Ford distance):"
   ]
  },
  {
   "cell_type": "code",
   "execution_count": 40,
   "metadata": {
    "scrolled": true,
    "slideshow": {
     "slide_type": "fragment"
    }
   },
   "outputs": [
    {
     "data": {
      "text/plain": [
       "('BO', 0.2803158054631055)"
      ]
     },
     "execution_count": 40,
     "metadata": {},
     "output_type": "execute_result"
    }
   ],
   "source": [
    "def massimaCloseness(graph):\n",
    "    maximum = 0.0\n",
    "    city = ''\n",
    "    for v in graph.nodes():\n",
    "        closy = closeness_norm_dist(graph,v)\n",
    "        if closy >= maximum:\n",
    "            maximum = closy\n",
    "            city = v\n",
    "    return city, maximum\n",
    "\n",
    "massimaCloseness(P)"
   ]
  },
  {
   "cell_type": "markdown",
   "metadata": {
    "slideshow": {
     "slide_type": "fragment"
    }
   },
   "source": [
    "The cost of our 'massimaCloseness' algorithm is **$O(|V|^2\\times|E|)$**."
   ]
  },
  {
   "cell_type": "markdown",
   "metadata": {
    "slideshow": {
     "slide_type": "subslide"
    }
   },
   "source": [
    "Or, alternatively: "
   ]
  },
  {
   "cell_type": "code",
   "execution_count": 42,
   "metadata": {
    "slideshow": {
     "slide_type": "fragment"
    }
   },
   "outputs": [
    {
     "data": {
      "text/plain": [
       "('BO', 0.2803158054631056)"
      ]
     },
     "execution_count": 42,
     "metadata": {},
     "output_type": "execute_result"
    }
   ],
   "source": [
    "def get_key(val, my_dict): \n",
    "    for key, value in my_dict.items(): \n",
    "         if val == value: \n",
    "             return key \n",
    "    return \"key doesn't exist\"\n",
    "\n",
    "dist_max = max(list(nx.closeness_centrality(P,distance = 'weight').values()))\n",
    "get_key(dist_max,nx.closeness_centrality(P,distance = 'weight')), dist_max"
   ]
  },
  {
   "cell_type": "markdown",
   "metadata": {
    "slideshow": {
     "slide_type": "fragment"
    }
   },
   "source": [
    "The cost of this last program is **$O(|V|\\times|E|)$**."
   ]
  },
  {
   "cell_type": "markdown",
   "metadata": {
    "slideshow": {
     "slide_type": "slide"
    }
   },
   "source": [
    "# <center>Thank you for your attention!</center>"
   ]
  }
 ],
 "metadata": {
  "celltoolbar": "Slideshow",
  "kernelspec": {
   "display_name": "Python 3",
   "language": "python",
   "name": "python3"
  },
  "language_info": {
   "codemirror_mode": {
    "name": "ipython",
    "version": 3
   },
   "file_extension": ".py",
   "mimetype": "text/x-python",
   "name": "python",
   "nbconvert_exporter": "python",
   "pygments_lexer": "ipython3",
   "version": "3.7.4"
  }
 },
 "nbformat": 4,
 "nbformat_minor": 2
}
